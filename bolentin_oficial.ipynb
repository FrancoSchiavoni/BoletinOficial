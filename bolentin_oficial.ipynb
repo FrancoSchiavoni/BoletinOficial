{
 "cells": [
  {
   "cell_type": "markdown",
   "id": "b11fbc3e",
   "metadata": {},
   "source": [
    "## Imports & Parameters"
   ]
  },
  {
   "cell_type": "code",
   "execution_count": 75,
   "id": "69e027a7",
   "metadata": {},
   "outputs": [],
   "source": [
    "import requests\n",
    "from bs4 import BeautifulSoup\n",
    "import json\n",
    "from html import unescape\n",
    "from datetime import date"
   ]
  },
  {
   "cell_type": "code",
   "execution_count": null,
   "id": "85617022",
   "metadata": {},
   "outputs": [],
   "source": [
    "base_url = \"https://www.boletinoficial.gob.ar\"\n",
    "fecha_desde = date.today().strftime(\"%d/%m/%Y\")\n",
    "fecha_hasta = date.today().strftime(\"%d/%m/%Y\")\n",
    "text = 'energía'"
   ]
  },
  {
   "cell_type": "markdown",
   "id": "e6c4081f",
   "metadata": {},
   "source": [
    "## Get"
   ]
  },
  {
   "cell_type": "code",
   "execution_count": null,
   "id": "db9620e7",
   "metadata": {},
   "outputs": [
    {
     "name": "stdout",
     "output_type": "stream",
     "text": [
      "200\n"
     ]
    }
   ],
   "source": [
    "url_busqueda = \"/busquedaAvanzada/realizarBusqueda\"\n",
    "\n",
    "payload = {\n",
    "    \"params\": f'''{{\n",
    "        \"busquedaRubro\":false,\n",
    "        \"hayMasResultadosBusqueda\":true,\n",
    "        \"ejecutandoLlamadaAsincronicaBusqueda\":false,\n",
    "        \"ultimaSeccion\":\"\",\n",
    "        \"filtroPorRubrosSeccion\":false,\n",
    "        \"filtroPorRubroBusqueda\":false,\n",
    "        \"filtroPorSeccionBusqueda\":false,\n",
    "        \"busquedaOriginal\":true,\n",
    "        \"ordenamientoSegunda\":false,\n",
    "        \"seccionesOriginales\":[1],\n",
    "        \"ultimoItemExterno\":null,\n",
    "        \"ultimoItemInterno\":null,\n",
    "        \"texto\":\"{text}\",\n",
    "        \"rubros\":[],\n",
    "        \"nroNorma\":\"\",\n",
    "        \"anioNorma\":\"\",\n",
    "        \"denominacion\":\"\",\n",
    "        \"tipoContratacion\":\"\",\n",
    "        \"anioContratacion\":\"\",\n",
    "        \"nroContratacion\":\"\",\n",
    "        \"fechaDesde\":\"{fecha_desde}\",\n",
    "        \"fechaHasta\":\"{fecha_hasta}\",\n",
    "        \"todasLasPalabras\":true,\n",
    "        \"comienzaDenominacion\":true,\n",
    "        \"seccion\":[1],\n",
    "        \"tipoBusqueda\":\"Avanzada\",\n",
    "        \"numeroPagina\":1,\n",
    "        \"ultimoRubro\":\"\"\n",
    "    }}''',\n",
    "    \"array_volver\": \"[]\"\n",
    "}\n",
    "\n",
    "headers = {\n",
    "    \"Content-Type\": \"application/x-www-form-urlencoded; charset=UTF-8\",\n",
    "    \"Origin\": base_url,\n",
    "    \"Referer\": \"https://www.boletinoficial.gob.ar/busquedaAvanzada/all\",\n",
    "    \"User-Agent\": \"Mozilla/5.0\"\n",
    "}\n",
    "\n",
    "response = requests.post(base_url + url_busqueda, data=payload, headers=headers)\n",
    "print(response.status_code)\n"
   ]
  },
  {
   "cell_type": "markdown",
   "id": "0b7e1745",
   "metadata": {},
   "source": [
    "## Parse response"
   ]
  },
  {
   "cell_type": "code",
   "execution_count": null,
   "id": "a3ee44e2",
   "metadata": {},
   "outputs": [],
   "source": [
    "data = json.loads(response.text)\n",
    "html = data[\"content\"][\"html\"]\n",
    "\n",
    "html_limpio = unescape(html)\n",
    "soup = BeautifulSoup(html_limpio, 'html.parser')\n",
    "\n",
    "avisos = []\n",
    "for a in soup.select(\"a[href]\"):\n",
    "    aviso = a.find(\"div\", class_=\"linea-aviso\")\n",
    "    if aviso:\n",
    "        link = a[\"href\"]\n",
    "        ministerio = aviso.select_one(\".item\").get_text(strip=True)\n",
    "        resolucion = aviso.select_one(\".item-detalle small\").get_text(strip=True)\n",
    "        fecha_pub = aviso.select(\".item-detalle small\")[1].get_text(strip=True)\n",
    "        detalles = aviso.find_all(\"p\", class_=\"item-detalle\")\n",
    "        referencia_contenido = detalles[2] if len(detalles) > 2 else None\n",
    "        \n",
    "        referencia = \"\"\n",
    "        contenido = \"\"\n",
    "        if referencia_contenido:\n",
    "            small = referencia_contenido.find(\"small\")\n",
    "            if small:\n",
    "                partes = list(small.stripped_strings)\n",
    "                if len(partes) >= 1:\n",
    "                    referencia = partes[0]\n",
    "                if len(partes) > 1:\n",
    "                    contenido = \" \".join(partes[1:])\n",
    "\n",
    "        avisos.append({\n",
    "            \"resolucion\": resolucion,\n",
    "            \"ministerio\": ministerio,\n",
    "            \"link\": link,\n",
    "            \"fecha_publicacion\": fecha_pub,\n",
    "            \"referencia\": referencia,\n",
    "            \"contenido\":contenido,\n",
    "            \"detalle\": None \n",
    "        })"
   ]
  },
  {
   "cell_type": "markdown",
   "id": "954b452f",
   "metadata": {},
   "source": [
    "## Get content"
   ]
  },
  {
   "cell_type": "code",
   "execution_count": 81,
   "id": "fcaa72e2",
   "metadata": {},
   "outputs": [
    {
     "name": "stdout",
     "output_type": "stream",
     "text": [
      "Resolución 689/2025\n",
      "MINISTERIO DE ECONOMÍA\n",
      "/detalleAviso/primera/325995/20250527?busqueda=1\n",
      "Fecha de Publicacion: 27/05/2025\n",
      "RESOL-2025-689-APN-MEC\n",
      "Subsecretaría de Transición y Planeamiento Energético de la Secretaría de Energía del Ministerio de Economía.Que la presente designación transitoria queda...\n",
      "--------\n",
      "Resolución 685/2025\n",
      "MINISTERIO DE ECONOMÍA\n",
      "/detalleAviso/primera/325994/20250527?busqueda=1\n",
      "Fecha de Publicacion: 27/05/2025\n",
      "RESOL-2025-685-APN-MEC\n",
      "Subsecretaría de Transición y Planeamiento Energético de la Secretaría de Energía del Ministerio de Economía.Que la presente designación transitoria queda...\n",
      "--------\n"
     ]
    }
   ],
   "source": [
    "for aviso in avisos:\n",
    "    print(aviso[\"resolucion\"])\n",
    "    print(aviso[\"ministerio\"])\n",
    "    print(aviso[\"link\"])\n",
    "    print(aviso[\"fecha_publicacion\"])\n",
    "    print(aviso[\"referencia\"])\n",
    "    print(aviso[\"contenido\"])\n",
    "    print(\"--------\")\n"
   ]
  }
 ],
 "metadata": {
  "kernelspec": {
   "display_name": "Python 3",
   "language": "python",
   "name": "python3"
  },
  "language_info": {
   "codemirror_mode": {
    "name": "ipython",
    "version": 3
   },
   "file_extension": ".py",
   "mimetype": "text/x-python",
   "name": "python",
   "nbconvert_exporter": "python",
   "pygments_lexer": "ipython3",
   "version": "3.9.5"
  }
 },
 "nbformat": 4,
 "nbformat_minor": 5
}
