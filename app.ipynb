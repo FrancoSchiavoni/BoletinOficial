{
 "cells": [
  {
   "cell_type": "code",
   "execution_count": 53,
   "id": "1d2f887d",
   "metadata": {},
   "outputs": [],
   "source": [
    "import requests\n",
    "from bs4 import BeautifulSoup\n",
    "from datetime import datetime\n",
    "\n",
    "def buscar_publicaciones_energia():\n",
    "    url = \"https://www.boletinoficial.gob.ar/busquedaAvanzada/realizarBusqueda\"\n",
    "    date = datetime.today().strftime(\"%d/%m/%Y\")\n",
    "    payload = '{\"busquedaRubro\":false,\"hayMasResultadosBusqueda\":true,\"ejecutandoLlamadaAsincronicaBusqueda\":false,\"ultimaSeccion\":\"\",\"filtroPorRubrosSeccion\":false,\"filtroPorRubroBusqueda\":false,\"filtroPorSeccionBusqueda\":false,\"busquedaOriginal\":true,\"ordenamientoSegunda\":false,\"seccionesOriginales\":[1],\"ultimoItemExterno\":null,\"ultimoItemInterno\":null,\"texto\":\"energía\",\"rubros\":[],\"nroNorma\":\"\",\"anioNorma\":\"\",\"denominacion\":\"\",\"tipoContratacion\":\"\",\"anioContratacion\":\"\",\"nroContratacion\":\"\",\"fechaDesde\":\"27/05/2025\",\"fechaHasta\":\"27/05/2025\",\"todasLasPalabras\":true,\"comienzaDenominacion\":true,\"seccion\":[1],\"tipoBusqueda\":\"Avanzada\",\"numeroPagina\":1,\"ultimoRubro\":\"\"}'\n",
    "    # {\n",
    "    #     \"busquedaRubro\": False,\n",
    "    #     \"hayMasResultadosBusqueda\": True,\n",
    "    #     \"ejecutandoLlamadaAsincronicaBusqueda\": False,\n",
    "    #     \"ultimaSeccion\": \"\",\n",
    "    #     \"filtroPorRubrosSeccion\": False,\n",
    "    #     \"filtroPorRubroBusqueda\": False,\n",
    "    #     \"filtroPorSeccionBusqueda\": False,\n",
    "    #     \"busquedaOriginal\": True,\n",
    "    #     \"ordenamientoSegunda\": False,\n",
    "    #     \"seccionesOriginales\": [1],\n",
    "    #     \"ultimoItemExterno\": None,\n",
    "    #     \"ultimoItemInterno\": None,\n",
    "    #     \"texto\": \"energía\",\n",
    "    #     \"rubros\": [],\n",
    "    #     \"nroNorma\": \"\",\n",
    "    #     \"anioNorma\": \"\",\n",
    "    #     \"denominacion\": \"\",\n",
    "    #     \"tipoContratacion\": \"\",\n",
    "    #     \"anioContratacion\": \"\",\n",
    "    #     \"nroContratacion\": \"\",\n",
    "    #     \"fechaDesde\": date,\n",
    "    #     \"fechaHasta\": date,\n",
    "    #     \"todasLasPalabras\": True,\n",
    "    #     \"comienzaDenominacion\": True,\n",
    "    #     \"seccion\": [1],\n",
    "    #     \"tipoBusqueda\": \"Avanzada\",\n",
    "    #     \"numeroPagina\": 1,\n",
    "    #     \"ultimoRubro\": \"\"\n",
    "    # }\n",
    "    headers = {\"Content-Type\": \"application/json\"}\n",
    "    \n",
    "   # 2. Hacer POST\n",
    "    resp = requests.post(url, json=payload, headers=headers)\n",
    "    print(resp.headers.get(\"Content-Type\"))\n",
    "\n",
    "    print (resp.text)\n",
    "    data = resp.json()\n",
    "    html = data[\"content\"][\"html\"]\n",
    "\n",
    "    # 3. Parsear con BeautifulSoup\n",
    "    soup = BeautifulSoup(html, \"html.parser\")\n",
    "    avisos = []\n",
    "\n",
    "    for aviso in soup.select(\".linea-aviso\"):\n",
    "        organismo = aviso.find(\"p\", class_=\"item\").text.strip()\n",
    "        detalles = aviso.find_all(\"p\", class_=\"item-detalle\")\n",
    "        \n",
    "        numero = detalles[0].text.strip()\n",
    "        fecha_pub = detalles[1].text.strip().replace(\"Fecha de Publicacion: \", \"\")\n",
    "        resumen = detalles[2].text.strip()\n",
    "        \n",
    "        link_tag = aviso.parent.get(\"href\")\n",
    "        link = f\"https://www.boletinoficial.gob.ar{link_tag}\"\n",
    "        \n",
    "        avisos.append({\n",
    "            \"organismo\": organismo,\n",
    "            \"numero\": numero,\n",
    "            \"fecha_publicacion\": fecha_pub,\n",
    "            \"resumen\": resumen,\n",
    "            \"link\": link\n",
    "        })\n",
    "    return avisos\n",
    "    # # 4. Mostrar resultado\n",
    "    # for a in avisos:\n",
    "    #     print(f\"- {a['numero']} | {a['organismo']} ({a['fecha_publicacion']})\")\n",
    "    #     print(f\"  {a['resumen']}\")\n",
    "    #     print(f\"  {a['link']}\\n\")"
   ]
  },
  {
   "cell_type": "code",
   "execution_count": 54,
   "id": "7c4df95e",
   "metadata": {},
   "outputs": [
    {
     "name": "stdout",
     "output_type": "stream",
     "text": [
      "application/json\n",
      "{\"error\":2,\"content\":null,\"mensajes\":[\"Hubo un error al realizar la b\\u00fasqueda\"]}\n"
     ]
    },
    {
     "ename": "TypeError",
     "evalue": "'NoneType' object is not subscriptable",
     "output_type": "error",
     "traceback": [
      "\u001b[1;31m---------------------------------------------------------------------------\u001b[0m",
      "\u001b[1;31mTypeError\u001b[0m                                 Traceback (most recent call last)",
      "Cell \u001b[1;32mIn[54], line 1\u001b[0m\n\u001b[1;32m----> 1\u001b[0m publicaciones \u001b[38;5;241m=\u001b[39m \u001b[43mbuscar_publicaciones_energia\u001b[49m\u001b[43m(\u001b[49m\u001b[43m)\u001b[49m\n\u001b[0;32m      2\u001b[0m publicaciones\n",
      "Cell \u001b[1;32mIn[53], line 47\u001b[0m, in \u001b[0;36mbuscar_publicaciones_energia\u001b[1;34m()\u001b[0m\n\u001b[0;32m     45\u001b[0m \u001b[38;5;28mprint\u001b[39m (resp\u001b[38;5;241m.\u001b[39mtext)\n\u001b[0;32m     46\u001b[0m data \u001b[38;5;241m=\u001b[39m resp\u001b[38;5;241m.\u001b[39mjson()\n\u001b[1;32m---> 47\u001b[0m html \u001b[38;5;241m=\u001b[39m \u001b[43mdata\u001b[49m\u001b[43m[\u001b[49m\u001b[38;5;124;43m\"\u001b[39;49m\u001b[38;5;124;43mcontent\u001b[39;49m\u001b[38;5;124;43m\"\u001b[39;49m\u001b[43m]\u001b[49m\u001b[43m[\u001b[49m\u001b[38;5;124;43m\"\u001b[39;49m\u001b[38;5;124;43mhtml\u001b[39;49m\u001b[38;5;124;43m\"\u001b[39;49m\u001b[43m]\u001b[49m\n\u001b[0;32m     49\u001b[0m \u001b[38;5;66;03m# 3. Parsear con BeautifulSoup\u001b[39;00m\n\u001b[0;32m     50\u001b[0m soup \u001b[38;5;241m=\u001b[39m BeautifulSoup(html, \u001b[38;5;124m\"\u001b[39m\u001b[38;5;124mhtml.parser\u001b[39m\u001b[38;5;124m\"\u001b[39m)\n",
      "\u001b[1;31mTypeError\u001b[0m: 'NoneType' object is not subscriptable"
     ]
    }
   ],
   "source": [
    "publicaciones = buscar_publicaciones_energia()\n",
    "publicaciones"
   ]
  }
 ],
 "metadata": {
  "kernelspec": {
   "display_name": "Python 3",
   "language": "python",
   "name": "python3"
  },
  "language_info": {
   "codemirror_mode": {
    "name": "ipython",
    "version": 3
   },
   "file_extension": ".py",
   "mimetype": "text/x-python",
   "name": "python",
   "nbconvert_exporter": "python",
   "pygments_lexer": "ipython3",
   "version": "3.12.1"
  }
 },
 "nbformat": 4,
 "nbformat_minor": 5
}
